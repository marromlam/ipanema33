{
 "cells": [
  {
   "cell_type": "code",
   "execution_count": 13,
   "metadata": {},
   "outputs": [
    {
     "name": "stdout",
     "output_type": "stream",
     "text": [
      "Already set \"cuda\" as (cuda)\n"
     ]
    }
   ],
   "source": [
    "import ipanema\n",
    "import numpy as np\n",
    "ipanema.initialize('cuda',1)\n",
    "from scipy import special\n",
    "import matplotlib.pyplot as plt\n",
    "%matplotlib widget\n",
    "import ipywidgets as widgets\n",
    "import uproot3 as uproot"
   ]
  },
  {
   "cell_type": "code",
   "execution_count": 14,
   "metadata": {},
   "outputs": [
    {
     "ename": "OSError",
     "evalue": "[Errno 24] Too many open files: '/scratch46/marcos.romero/Bu2JpsiKplus.root'",
     "output_type": "error",
     "traceback": [
      "\u001b[0;31m---------------------------------------------------------------------------\u001b[0m",
      "\u001b[0;31mOSError\u001b[0m                                   Traceback (most recent call last)",
      "\u001b[0;32m<ipython-input-14-6d0dceff8000>\u001b[0m in \u001b[0;36m<module>\u001b[0;34m\u001b[0m\n\u001b[1;32m      1\u001b[0m \u001b[0mbranches\u001b[0m \u001b[0;34m=\u001b[0m \u001b[0;34m[\u001b[0m\u001b[0;34m'Bu_M'\u001b[0m\u001b[0;34m,\u001b[0m \u001b[0;34m'Bu_PVConst_veloMatch'\u001b[0m\u001b[0;34m,\u001b[0m \u001b[0;34m'Bu_PVConst_veloMatch_stdmethod'\u001b[0m\u001b[0;34m]\u001b[0m\u001b[0;34m\u001b[0m\u001b[0;34m\u001b[0m\u001b[0m\n\u001b[0;32m----> 2\u001b[0;31m \u001b[0mrd\u001b[0m \u001b[0;34m=\u001b[0m \u001b[0muproot\u001b[0m\u001b[0;34m.\u001b[0m\u001b[0mopen\u001b[0m\u001b[0;34m(\u001b[0m\u001b[0;34m\"/scratch46/marcos.romero/Bu2JpsiKplus.root\"\u001b[0m\u001b[0;34m)\u001b[0m\u001b[0;34m[\u001b[0m\u001b[0;34m'Bu2JpsiKplus'\u001b[0m\u001b[0;34m]\u001b[0m\u001b[0;34m\u001b[0m\u001b[0;34m\u001b[0m\u001b[0m\n\u001b[0m\u001b[1;32m      3\u001b[0m \u001b[0mrd\u001b[0m \u001b[0;34m=\u001b[0m \u001b[0mrd\u001b[0m\u001b[0;34m[\u001b[0m\u001b[0;34m'DecayTree'\u001b[0m\u001b[0;34m]\u001b[0m\u001b[0;34m.\u001b[0m\u001b[0mpandas\u001b[0m\u001b[0;34m.\u001b[0m\u001b[0mdf\u001b[0m\u001b[0;34m(\u001b[0m\u001b[0mbranches\u001b[0m\u001b[0;34m=\u001b[0m\u001b[0mbranches\u001b[0m\u001b[0;34m)\u001b[0m\u001b[0;34m\u001b[0m\u001b[0;34m\u001b[0m\u001b[0m\n\u001b[1;32m      4\u001b[0m \u001b[0mrd\u001b[0m \u001b[0;34m=\u001b[0m \u001b[0mipanema\u001b[0m\u001b[0;34m.\u001b[0m\u001b[0mSample\u001b[0m\u001b[0;34m.\u001b[0m\u001b[0mfrom_pandas\u001b[0m\u001b[0;34m(\u001b[0m\u001b[0mrd\u001b[0m\u001b[0;34m)\u001b[0m\u001b[0;34m\u001b[0m\u001b[0;34m\u001b[0m\u001b[0m\n\u001b[1;32m      5\u001b[0m \u001b[0mmass\u001b[0m \u001b[0;34m=\u001b[0m \u001b[0mrd\u001b[0m\u001b[0;34m[\u001b[0m\u001b[0;34m'Bu_M'\u001b[0m\u001b[0;34m]\u001b[0m\u001b[0;34m\u001b[0m\u001b[0;34m\u001b[0m\u001b[0m\n",
      "\u001b[0;32m~/conda3/envs/phisscq/lib/python3.8/site-packages/uproot3/rootio.py\u001b[0m in \u001b[0;36mopen\u001b[0;34m(path, localsource, xrootdsource, httpsource, **options)\u001b[0m\n",
      "\u001b[0;32m~/conda3/envs/phisscq/lib/python3.8/site-packages/uproot3/rootio.py\u001b[0m in \u001b[0;36m<lambda>\u001b[0;34m(path)\u001b[0m\n",
      "\u001b[0;32m~/conda3/envs/phisscq/lib/python3.8/site-packages/uproot3/source/memmap.py\u001b[0m in \u001b[0;36m__init__\u001b[0;34m(self, path)\u001b[0m\n",
      "\u001b[0;32m~/.local/lib/python3.8/site-packages/numpy/core/memmap.py\u001b[0m in \u001b[0;36m__new__\u001b[0;34m(subtype, filename, dtype, mode, offset, shape, order)\u001b[0m\n",
      "\u001b[0;31mOSError\u001b[0m: [Errno 24] Too many open files: '/scratch46/marcos.romero/Bu2JpsiKplus.root'"
     ]
    }
   ],
   "source": [
    "branches = ['Bu_M', 'Bu_PVConst_veloMatch', 'Bu_PVConst_veloMatch_stdmethod']\n",
    "rd = uproot.open(\"/scratch46/marcos.romero/Bu2JpsiKplus.root\")['Bu2JpsiKplus']\n",
    "rd = rd['DecayTree'].pandas.df(branches=branches)\n",
    "rd = ipanema.Sample.from_pandas(rd)\n",
    "mass = rd['Bu_M']"
   ]
  },
  {
   "cell_type": "code",
   "execution_count": 6,
   "metadata": {},
   "outputs": [],
   "source": [
    "prog = THREAD.compile(\n",
    "\"\"\"\n",
    "#define USE_DOUBLE 1\n",
    "#include <ipanema/core.c>\n",
    "#include <ipanema/complex.c>\n",
    "#include <ipanema/special.c>\n",
    "#include <ipanema/lineshapes.c>\n",
    "#include <exposed/kernels.ocl>\n",
    "\"\"\", compiler_options=[f\"-I{ipanema.IPANEMALIB}\"])\n",
    "\n",
    "def ipatia(x, mu, sigma=1, lambd=-1, zeta=0, beta=-0.01, aL=50, nL=1.5, aR=1., nR=0.1):\n",
    "  xd = ipanema.ristra.allocate(x)\n",
    "  yd = ipanema.ristra.allocate(0*x)\n",
    "  prog.py_ipatia(yd, xd, np.float64(mu), np.float64(sigma),\n",
    "                  np.float64(lambd), np.float64(zeta), np.float64(beta),\n",
    "                  np.float64(aL), np.float64(nL),\n",
    "                  np.float64(aR), np.float64(nR),\n",
    "                  global_size=(len(x)))\n",
    "  return ipanema.ristra.get(yd)"
   ]
  },
  {
   "cell_type": "code",
   "execution_count": 10,
   "metadata": {},
   "outputs": [
    {
     "data": {
      "application/vnd.jupyter.widget-view+json": {
       "model_id": "44b8c9fdc85d4fdd996fbdfb3db6ab44",
       "version_major": 2,
       "version_minor": 0
      },
      "text/plain": [
       "interactive(children=(IntSlider(value=0, description='mu', max=10), FloatSlider(value=1.0, description='sigma'…"
      ]
     },
     "metadata": {},
     "output_type": "display_data"
    }
   ],
   "source": [
    "@widgets.interact(mu=(0, 10, 1), sigma=(0.0001, 5, 1), lambd=(-10, 10, 1), \n",
    "                  zeta=(0, 10, 1), beta=(-5,5,1), \n",
    "                  aL=(0,1000,1), nL=(0,10,1), aR=(0,1000,1), nR=(0,10,1))\n",
    "def show_ipatia(mu=0, sigma=1, lambd=-1, zeta=0, beta=-0.01, aL=50, nL=1.5, aR=1., nR=0.1):\n",
    "  x = np.linspace(-10,10,100).astype(np.float64)\n",
    "  fig, ax = ipanema.plotting.axes_plot()\n",
    "  ip = ipatia(x, 0., 1., -1.0, 0.0, -0.01, 50.0, 1.5, 1.0, 0.1)\n",
    "  y = ip/np.trapz(ip,x)\n",
    "  ax.plot(x, y, label=rf\"base\")    \n",
    "  ip = ipatia(x, mu, sigma, lambd, zeta, beta, aL, nL, aR, nR)\n",
    "  y = ip/np.trapz(ip,x)\n",
    "  ax.plot(x, y, label=rf\"$\\lambda = {lambd}$\")\n",
    "  #ax.legend()"
   ]
  },
  {
   "cell_type": "code",
   "execution_count": null,
   "metadata": {},
   "outputs": [],
   "source": []
  }
 ],
 "metadata": {
  "kernelspec": {
   "display_name": "phisscq",
   "language": "python",
   "name": "phisscq"
  },
  "language_info": {
   "codemirror_mode": {
    "name": "ipython",
    "version": 3
   },
   "file_extension": ".py",
   "mimetype": "text/x-python",
   "name": "python",
   "nbconvert_exporter": "python",
   "pygments_lexer": "ipython3",
   "version": "3.8.5"
  }
 },
 "nbformat": 4,
 "nbformat_minor": 4
}
