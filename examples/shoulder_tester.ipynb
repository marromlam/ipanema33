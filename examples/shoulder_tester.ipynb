{
 "cells": [
  {
   "cell_type": "code",
   "execution_count": 1,
   "metadata": {},
   "outputs": [
    {
     "name": "stdout",
     "output_type": "stream",
     "text": [
      "Welcome to JupyROOT 6.22/02\n"
     ]
    }
   ],
   "source": [
    "import ipanema\n",
    "import numpy as np\n",
    "ipanema.initialize('cuda',1)\n",
    "from scipy import special\n",
    "import matplotlib.pyplot as plt\n",
    "%matplotlib widget\n",
    "import ipywidgets as widgets\n",
    "import uproot3 as uproot"
   ]
  },
  {
   "cell_type": "code",
   "execution_count": 2,
   "metadata": {},
   "outputs": [],
   "source": [
    "cut1 = \"Bu_IPCHI2_OWNPV<9 & Jpsi_M>3075 & Jpsi_M<3120\"\n",
    "#cut1 = f\"{cut1} & Bu_M>5100 & Bu_M<5450\"\n",
    "cut2 = \"Jpsi_ENDVERTEX_CHI2<9 & Bu_ENDVERTEX_CHI2<27 & log10(Bu_TAU)>-3.1\"\n",
    "cut2 = f\"{cut1} & {cut2}\"\n",
    "rd = uproot.open(\"/scratch46/marcos.romero/Bu2JpsiKplus5r.root\")\n",
    "rd = rd['DecayTree'].pandas.df().query(cut2)\n",
    "#rd = ipanema.Sample.from_pandas(rd)\n",
    "mass = rd['Bu_M']"
   ]
  },
  {
   "cell_type": "code",
   "execution_count": 2,
   "metadata": {},
   "outputs": [],
   "source": [
    "prog = THREAD.compile(\n",
    "\"\"\"\n",
    "#define USE_DOUBLE 1\n",
    "#include <ipanema/core.c>\n",
    "#include <ipanema/complex.c>\n",
    "#include <ipanema/special.c>\n",
    "#include <ipanema/lineshapes.c>\n",
    "#include <exposed/kernels.ocl>\n",
    "\"\"\", compiler_options=[f\"-I{ipanema.IPANEMALIB}\"])\n",
    "\n",
    "x = np.linspace(4900,5500,200).astype(np.float64)\n",
    "xd = ipanema.ristra.allocate(x)\n",
    "yd = ipanema.ristra.allocate(0*x)\n",
    "\n",
    "def shoulder(x, m0=5100, c=5, p=20):\n",
    "\n",
    "  prog.py_physbkg(yd, xd, np.float64(m0), np.float64(c), np.float64(p),\n",
    "                global_size=(len(x)))\n",
    "  return ipanema.ristra.get(yd)"
   ]
  },
  {
   "cell_type": "code",
   "execution_count": 5,
   "metadata": {},
   "outputs": [
    {
     "data": {
      "application/vnd.jupyter.widget-view+json": {
       "model_id": "863b3379b1b249daac1992706c335516",
       "version_major": 2,
       "version_minor": 0
      },
      "text/plain": [
       "interactive(children=(IntSlider(value=5150, description='m0', max=5300, min=5000, step=5), FloatSlider(value=0…"
      ]
     },
     "metadata": {},
     "output_type": "display_data"
    }
   ],
   "source": [
    "@widgets.interact(m0=(5000, 5300,5), c=(-10, 10, 0.1), p=(-10, 10, 0.1))\n",
    "def show_ipatia(m0, c, p):\n",
    "  fig, ax = ipanema.plotting.axes_plot()  \n",
    "  #ip = shoulder(x, 5100, 100, -10)\n",
    "  #y = ip/np.trapz(ip,x)\n",
    "  #ax.plot(x, y)  \n",
    "  ip = shoulder(x, m0, c, p)\n",
    "  y = ip/np.trapz(ip,x)\n",
    "  ax.plot(x, y)\n",
    "  #ax.legend()"
   ]
  },
  {
   "cell_type": "code",
   "execution_count": null,
   "metadata": {},
   "outputs": [],
   "source": []
  }
 ],
 "metadata": {
  "kernelspec": {
   "display_name": "phisscq",
   "language": "python",
   "name": "phisscq"
  },
  "language_info": {
   "codemirror_mode": {
    "name": "ipython",
    "version": 3
   },
   "file_extension": ".py",
   "mimetype": "text/x-python",
   "name": "python",
   "nbconvert_exporter": "python",
   "pygments_lexer": "ipython3",
   "version": "3.8.5"
  }
 },
 "nbformat": 4,
 "nbformat_minor": 4
}
